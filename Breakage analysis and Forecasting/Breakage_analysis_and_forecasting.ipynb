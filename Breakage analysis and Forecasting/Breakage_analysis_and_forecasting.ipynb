{
  "nbformat": 4,
  "nbformat_minor": 0,
  "metadata": {
    "colab": {
      "name": "Breakage analysis and forecasting.ipynb",
      "provenance": [],
      "collapsed_sections": [],
      "authorship_tag": "ABX9TyMxICpnLPOM9L8HSs0eR0qI",
      "include_colab_link": true
    },
    "kernelspec": {
      "name": "python3",
      "display_name": "Python 3"
    }
  },
  "cells": [
    {
      "cell_type": "markdown",
      "metadata": {
        "id": "view-in-github",
        "colab_type": "text"
      },
      "source": [
        "<a href=\"https://colab.research.google.com/github/AlbinDavid/Python-basics-and-Data-Science-/blob/master/Breakage_analysis_and_forecasting.ipynb\" target=\"_parent\"><img src=\"https://colab.research.google.com/assets/colab-badge.svg\" alt=\"Open In Colab\"/></a>"
      ]
    },
    {
      "cell_type": "code",
      "metadata": {
        "id": "0kscJQRyxSu2",
        "colab_type": "code",
        "colab": {}
      },
      "source": [
        "import pandas as pd"
      ],
      "execution_count": 30,
      "outputs": []
    },
    {
      "cell_type": "code",
      "metadata": {
        "id": "45VcR7tPTM44",
        "colab_type": "code",
        "colab": {}
      },
      "source": [
        "##https://raw.githubusercontent.com/AlbinDavid/Python-basics-and-Data-Science-/master/breakage_analysis.csv\n",
        "# Excel file updated\n",
        "###https://github.com/AlbinDavid/Python-basics-and-Data-Science-/blob/master/breakage_analysis_result.xlsx?raw=true"
      ],
      "execution_count": 3,
      "outputs": []
    },
    {
      "cell_type": "code",
      "metadata": {
        "id": "whsGUZQFwt0F",
        "colab_type": "code",
        "colab": {
          "base_uri": "https://localhost:8080/",
          "height": 269
        },
        "outputId": "4b12dd24-0777-41f8-c799-3507b743f2a6"
      },
      "source": [
        "df=pd.read_csv('https://raw.githubusercontent.com/AlbinDavid/Python-basics-and-Data-Science-/master/breakage_analysis.csv')\n",
        "print(df)"
      ],
      "execution_count": 64,
      "outputs": [
        {
          "output_type": "stream",
          "text": [
            "   Giftcards        Date  Card Value Customers\n",
            "0        GC1  01-01-2020          20        C1\n",
            "1        GC2  01-01-2020          10        C1\n",
            "2        GC2  02-01-2020          10        C2\n",
            "3        GC3  05-29-2020          50        C3\n",
            "4        GC4  05-29-2020         200        C2\n",
            "5        GC1  05-01-2020          15        C1\n",
            "6        GC2  07-01-2020           0        C2\n",
            "7        GC2  07-25-2020           4        C2\n",
            "8        GC4  07-25-2020          50        C2\n",
            "9        GC1  07-28-2020          15        C1\n",
            "10       GC2  07-28-2020           0        C1\n",
            "11       GC2  07-28-2020           4        C2\n",
            "12       GC4  07-28-2020         -50        C2\n",
            "13       GC3  07-28-2020         -50        C3\n"
          ],
          "name": "stdout"
        }
      ]
    },
    {
      "cell_type": "code",
      "metadata": {
        "id": "GujUIXK3xsnr",
        "colab_type": "code",
        "colab": {
          "base_uri": "https://localhost:8080/",
          "height": 101
        },
        "outputId": "15260364-95d9-4f1f-d83c-f1ad2cd144ad"
      },
      "source": [
        "#Data Preprocessing\n",
        "df.dtypes"
      ],
      "execution_count": 65,
      "outputs": [
        {
          "output_type": "execute_result",
          "data": {
            "text/plain": [
              "Giftcards     object\n",
              "Date          object\n",
              "Card Value     int64\n",
              "Customers     object\n",
              "dtype: object"
            ]
          },
          "metadata": {
            "tags": []
          },
          "execution_count": 65
        }
      ]
    },
    {
      "cell_type": "code",
      "metadata": {
        "id": "OHEPfW9bf4dM",
        "colab_type": "code",
        "colab": {
          "base_uri": "https://localhost:8080/",
          "height": 34
        },
        "outputId": "0959d418-2ae0-41ca-9c00-d4157f6df514"
      },
      "source": [
        "df.shape"
      ],
      "execution_count": 66,
      "outputs": [
        {
          "output_type": "execute_result",
          "data": {
            "text/plain": [
              "(14, 4)"
            ]
          },
          "metadata": {
            "tags": []
          },
          "execution_count": 66
        }
      ]
    },
    {
      "cell_type": "code",
      "metadata": {
        "id": "j-_pmA5vk5W9",
        "colab_type": "code",
        "colab": {
          "base_uri": "https://localhost:8080/",
          "height": 195
        },
        "outputId": "489f589e-5f38-41d6-f4c6-7bff1a489129"
      },
      "source": [
        "df.head()"
      ],
      "execution_count": 67,
      "outputs": [
        {
          "output_type": "execute_result",
          "data": {
            "text/html": [
              "<div>\n",
              "<style scoped>\n",
              "    .dataframe tbody tr th:only-of-type {\n",
              "        vertical-align: middle;\n",
              "    }\n",
              "\n",
              "    .dataframe tbody tr th {\n",
              "        vertical-align: top;\n",
              "    }\n",
              "\n",
              "    .dataframe thead th {\n",
              "        text-align: right;\n",
              "    }\n",
              "</style>\n",
              "<table border=\"1\" class=\"dataframe\">\n",
              "  <thead>\n",
              "    <tr style=\"text-align: right;\">\n",
              "      <th></th>\n",
              "      <th>Giftcards</th>\n",
              "      <th>Date</th>\n",
              "      <th>Card Value</th>\n",
              "      <th>Customers</th>\n",
              "    </tr>\n",
              "  </thead>\n",
              "  <tbody>\n",
              "    <tr>\n",
              "      <th>0</th>\n",
              "      <td>GC1</td>\n",
              "      <td>01-01-2020</td>\n",
              "      <td>20</td>\n",
              "      <td>C1</td>\n",
              "    </tr>\n",
              "    <tr>\n",
              "      <th>1</th>\n",
              "      <td>GC2</td>\n",
              "      <td>01-01-2020</td>\n",
              "      <td>10</td>\n",
              "      <td>C1</td>\n",
              "    </tr>\n",
              "    <tr>\n",
              "      <th>2</th>\n",
              "      <td>GC2</td>\n",
              "      <td>02-01-2020</td>\n",
              "      <td>10</td>\n",
              "      <td>C2</td>\n",
              "    </tr>\n",
              "    <tr>\n",
              "      <th>3</th>\n",
              "      <td>GC3</td>\n",
              "      <td>05-29-2020</td>\n",
              "      <td>50</td>\n",
              "      <td>C3</td>\n",
              "    </tr>\n",
              "    <tr>\n",
              "      <th>4</th>\n",
              "      <td>GC4</td>\n",
              "      <td>05-29-2020</td>\n",
              "      <td>200</td>\n",
              "      <td>C2</td>\n",
              "    </tr>\n",
              "  </tbody>\n",
              "</table>\n",
              "</div>"
            ],
            "text/plain": [
              "  Giftcards        Date  Card Value Customers\n",
              "0       GC1  01-01-2020          20        C1\n",
              "1       GC2  01-01-2020          10        C1\n",
              "2       GC2  02-01-2020          10        C2\n",
              "3       GC3  05-29-2020          50        C3\n",
              "4       GC4  05-29-2020         200        C2"
            ]
          },
          "metadata": {
            "tags": []
          },
          "execution_count": 67
        }
      ]
    },
    {
      "cell_type": "code",
      "metadata": {
        "id": "WpySqZZhqKt7",
        "colab_type": "code",
        "colab": {
          "base_uri": "https://localhost:8080/",
          "height": 284
        },
        "outputId": "6ad2f723-a4f7-42fe-cda7-453d9b34cf84"
      },
      "source": [
        "df.describe()"
      ],
      "execution_count": 68,
      "outputs": [
        {
          "output_type": "execute_result",
          "data": {
            "text/html": [
              "<div>\n",
              "<style scoped>\n",
              "    .dataframe tbody tr th:only-of-type {\n",
              "        vertical-align: middle;\n",
              "    }\n",
              "\n",
              "    .dataframe tbody tr th {\n",
              "        vertical-align: top;\n",
              "    }\n",
              "\n",
              "    .dataframe thead th {\n",
              "        text-align: right;\n",
              "    }\n",
              "</style>\n",
              "<table border=\"1\" class=\"dataframe\">\n",
              "  <thead>\n",
              "    <tr style=\"text-align: right;\">\n",
              "      <th></th>\n",
              "      <th>Card Value</th>\n",
              "    </tr>\n",
              "  </thead>\n",
              "  <tbody>\n",
              "    <tr>\n",
              "      <th>count</th>\n",
              "      <td>14.000000</td>\n",
              "    </tr>\n",
              "    <tr>\n",
              "      <th>mean</th>\n",
              "      <td>19.857143</td>\n",
              "    </tr>\n",
              "    <tr>\n",
              "      <th>std</th>\n",
              "      <td>59.200906</td>\n",
              "    </tr>\n",
              "    <tr>\n",
              "      <th>min</th>\n",
              "      <td>-50.000000</td>\n",
              "    </tr>\n",
              "    <tr>\n",
              "      <th>25%</th>\n",
              "      <td>1.000000</td>\n",
              "    </tr>\n",
              "    <tr>\n",
              "      <th>50%</th>\n",
              "      <td>10.000000</td>\n",
              "    </tr>\n",
              "    <tr>\n",
              "      <th>75%</th>\n",
              "      <td>18.750000</td>\n",
              "    </tr>\n",
              "    <tr>\n",
              "      <th>max</th>\n",
              "      <td>200.000000</td>\n",
              "    </tr>\n",
              "  </tbody>\n",
              "</table>\n",
              "</div>"
            ],
            "text/plain": [
              "       Card Value\n",
              "count   14.000000\n",
              "mean    19.857143\n",
              "std     59.200906\n",
              "min    -50.000000\n",
              "25%      1.000000\n",
              "50%     10.000000\n",
              "75%     18.750000\n",
              "max    200.000000"
            ]
          },
          "metadata": {
            "tags": []
          },
          "execution_count": 68
        }
      ]
    },
    {
      "cell_type": "code",
      "metadata": {
        "id": "ZGllFRZZqM8V",
        "colab_type": "code",
        "colab": {
          "base_uri": "https://localhost:8080/",
          "height": 269
        },
        "outputId": "8b671957-b11e-4f90-c88d-9adddd2ea608"
      },
      "source": [
        "df.columns\n",
        "print(df['Giftcards'])"
      ],
      "execution_count": 69,
      "outputs": [
        {
          "output_type": "stream",
          "text": [
            "0     GC1\n",
            "1     GC2\n",
            "2     GC2\n",
            "3     GC3\n",
            "4     GC4\n",
            "5     GC1\n",
            "6     GC2\n",
            "7     GC2\n",
            "8     GC4\n",
            "9     GC1\n",
            "10    GC2\n",
            "11    GC2\n",
            "12    GC4\n",
            "13    GC3\n",
            "Name: Giftcards, dtype: object\n"
          ],
          "name": "stdout"
        }
      ]
    },
    {
      "cell_type": "code",
      "metadata": {
        "id": "FLUYU3furXJO",
        "colab_type": "code",
        "colab": {}
      },
      "source": [
        "X=df[['Giftcards','Date','Customers']]\n",
        "X = pd.get_dummies(data=X, drop_first=True)\n",
        "y=df['Card Value']"
      ],
      "execution_count": 70,
      "outputs": []
    },
    {
      "cell_type": "code",
      "metadata": {
        "id": "PVKK5HgRqTxM",
        "colab_type": "code",
        "colab": {}
      },
      "source": [
        "from sklearn.model_selection import train_test_split\n",
        "X_train,X_test,y_train,y_test = train_test_split(X,y,test_size=0.2,random_state=0)"
      ],
      "execution_count": 71,
      "outputs": []
    },
    {
      "cell_type": "code",
      "metadata": {
        "id": "K8tGGhFXqlVF",
        "colab_type": "code",
        "colab": {
          "base_uri": "https://localhost:8080/",
          "height": 34
        },
        "outputId": "055325b2-6377-45eb-c200-e61d1552e79d"
      },
      "source": [
        "from sklearn.linear_model import LinearRegression\n",
        "regressor = LinearRegression()\n",
        "regressor.fit(X_train,y_train)"
      ],
      "execution_count": 72,
      "outputs": [
        {
          "output_type": "execute_result",
          "data": {
            "text/plain": [
              "LinearRegression(copy_X=True, fit_intercept=True, n_jobs=None, normalize=False)"
            ]
          },
          "metadata": {
            "tags": []
          },
          "execution_count": 72
        }
      ]
    },
    {
      "cell_type": "code",
      "metadata": {
        "id": "cA_hK050r0tX",
        "colab_type": "code",
        "colab": {}
      },
      "source": [
        "y_pred=regressor.predict(X_test)"
      ],
      "execution_count": 73,
      "outputs": []
    },
    {
      "cell_type": "code",
      "metadata": {
        "id": "ej7HzSCIwfvS",
        "colab_type": "code",
        "colab": {
          "base_uri": "https://localhost:8080/",
          "height": 84
        },
        "outputId": "1e097646-0b5c-43c4-ed14-d94f8b97ca05"
      },
      "source": [
        "df = pd.dataframe=({\"Actual\": y_test,\"Predicted\":y_pred})\n",
        "df"
      ],
      "execution_count": 74,
      "outputs": [
        {
          "output_type": "execute_result",
          "data": {
            "text/plain": [
              "{'Actual': 8     50\n",
              " 6      0\n",
              " 4    200\n",
              " Name: Card Value, dtype: int64, 'Predicted': array([-50. ,  11.5,  50. ])}"
            ]
          },
          "metadata": {
            "tags": []
          },
          "execution_count": 74
        }
      ]
    },
    {
      "cell_type": "code",
      "metadata": {
        "id": "3tq8vnNCwvvF",
        "colab_type": "code",
        "colab": {
          "base_uri": "https://localhost:8080/",
          "height": 67
        },
        "outputId": "82b00dbd-d809-4e79-9944-a470757a02b9"
      },
      "source": [
        "from sklearn import metrics\n",
        "import numpy as np\n",
        "print('Mean Absolute Error',metrics.mean_absolute_error(y_test,y_pred))\n",
        "print('Mean Squared Error',metrics.mean_squared_error(y_test,y_pred))\n",
        "print('Root Mean Squared Error',np.sqrt(metrics.mean_squared_error(y_test,y_pred)))"
      ],
      "execution_count": 78,
      "outputs": [
        {
          "output_type": "stream",
          "text": [
            "Mean Absolute Error 87.16666666666659\n",
            "Mean Squared Error 10877.416666666653\n",
            "Root Mean Squared Error 104.29485445920452\n"
          ],
          "name": "stdout"
        }
      ]
    },
    {
      "cell_type": "code",
      "metadata": {
        "id": "JqaZewpkxmvF",
        "colab_type": "code",
        "colab": {
          "base_uri": "https://localhost:8080/",
          "height": 34
        },
        "outputId": "8fb22da5-9e35-45ab-a8e6-b748e8b5d980"
      },
      "source": [
        "print(metrics.r2_score(y_test, y_pred))"
      ],
      "execution_count": 77,
      "outputs": [
        {
          "output_type": "stream",
          "text": [
            "-0.5061038461538445\n"
          ],
          "name": "stdout"
        }
      ]
    },
    {
      "cell_type": "code",
      "metadata": {
        "id": "c4Wu8pBjxssq",
        "colab_type": "code",
        "colab": {}
      },
      "source": [
        ""
      ],
      "execution_count": null,
      "outputs": []
    }
  ]
}