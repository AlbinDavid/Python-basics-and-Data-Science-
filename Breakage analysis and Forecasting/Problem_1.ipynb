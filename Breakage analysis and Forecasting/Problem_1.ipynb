{
 "cells": [
  {
   "cell_type": "markdown",
   "metadata": {},
   "source": [
    "https://gist.githubusercontent.com/sachinlala/827662b6ce6835665608df096795a40e/raw/927c351202261eb7f6aecc1011900b249f978448/Gift%2520Cards%2520Breakage%2520Analysis"
   ]
  },
  {
   "cell_type": "markdown",
   "metadata": {},
   "source": [
    "https://raw.githubusercontent.com/AlbinDavid/Python-basics-and-Data-Science-/master/Breakage%20anaalysis%20and%20Forecasting/breakage_analysis.csv\n",
    "\n",
    "\n",
    "\n",
    " I have created the above csv file based on the information given and uploaded to github"
   ]
  },
  {
   "cell_type": "markdown",
   "metadata": {},
   "source": [
    "#### Data Preprocessing"
   ]
  },
  {
   "cell_type": "code",
   "execution_count": 328,
   "metadata": {},
   "outputs": [],
   "source": [
    "import pandas as pd\n",
    "import matplotlib.pyplot as plt\n",
    "%matplotlib inline"
   ]
  },
  {
   "cell_type": "code",
   "execution_count": 329,
   "metadata": {},
   "outputs": [],
   "source": [
    "df = pd.read_csv('https://raw.githubusercontent.com/AlbinDavid/Python-basics-and-Data-Science-/master/Breakage%20anaalysis%20and%20Forecasting/breakage_analysis.csv')"
   ]
  },
  {
   "cell_type": "code",
   "execution_count": 330,
   "metadata": {},
   "outputs": [],
   "source": [
    "from sklearn import preprocessing\n",
    "le = preprocessing.LabelEncoder()\n",
    "le.fit(df['CardCategory'])\n",
    "le.transform(df['CardCategory'])\n",
    "df['CardCategory_le']=le.transform(df['CardCategory'])\n",
    "le.fit(df['CardType'])\n",
    "le.transform(df['CardType'])\n",
    "df['CardType_le']=le.transform(df['CardType'])\n",
    "df.drop(['GiftCardID','CardType','Customers','MerchantID','CardCategory'],axis=1,inplace=True)"
   ]
  },
  {
   "cell_type": "code",
   "execution_count": 331,
   "metadata": {},
   "outputs": [],
   "source": [
    "\n",
    "datetime_series = pd.to_datetime(df.Date,format='%m-%d-%Y')\n",
    "datetime_index = pd.DatetimeIndex(datetime_series.values)\n",
    "df=df.set_index(datetime_index)\n",
    "df.drop('Date',axis=1,inplace=True)\n",
    "df.sort_index(inplace=True)\n"
   ]
  },
  {
   "cell_type": "code",
   "execution_count": 332,
   "metadata": {},
   "outputs": [],
   "source": [
    "start_date = '2020-01-01' \n",
    "end_date='12-12-2020'\n",
    "idx = pd.date_range(start_date,end_date,freq='D')"
   ]
  },
  {
   "cell_type": "code",
   "execution_count": 333,
   "metadata": {},
   "outputs": [],
   "source": [
    "# print(df.index)\n",
    "# df2 = df.asfreq('D')\n",
    "# print(df2.index)\n",
    "data = df"
   ]
  },
  {
   "cell_type": "code",
   "execution_count": 337,
   "metadata": {},
   "outputs": [
    {
     "data": {
      "text/plain": [
       "array([0.86238419, 0.40286233, 0.08089905])"
      ]
     },
     "execution_count": 337,
     "metadata": {},
     "output_type": "execute_result"
    }
   ],
   "source": [
    "from statsmodels.tsa.vector_ar.vecm import coint_johansen\n",
    "johan_test_temp = data\n",
    "coint_johansen(johan_test_temp,-1,1).eig"
   ]
  },
  {
   "cell_type": "markdown",
   "metadata": {},
   "source": [
    "#### Splitting train and validation dataset"
   ]
  },
  {
   "cell_type": "code",
   "execution_count": 341,
   "metadata": {},
   "outputs": [],
   "source": [
    "# train = data[:int(0.8*(len(data)))]\n",
    "train = data\n",
    "valid = data[int(0.8*(len(data))):]"
   ]
  },
  {
   "cell_type": "code",
   "execution_count": 342,
   "metadata": {},
   "outputs": [],
   "source": [
    "train.index = train.index.to_period(\"D\")"
   ]
  },
  {
   "cell_type": "markdown",
   "metadata": {},
   "source": [
    "### Vector Auto regression"
   ]
  },
  {
   "cell_type": "code",
   "execution_count": 344,
   "metadata": {},
   "outputs": [],
   "source": [
    "from statsmodels.tsa.vector_ar.var_model import VAR"
   ]
  },
  {
   "cell_type": "code",
   "execution_count": 345,
   "metadata": {},
   "outputs": [
    {
     "name": "stderr",
     "output_type": "stream",
     "text": [
      "C:\\Users\\ALBIN\\Anaconda3\\lib\\site-packages\\statsmodels\\base\\wrapper.py:36: FutureWarning: y is a deprecated alias for endog, will be removed in version 0.11.0\n",
      "  obj = getattr(results, attr)\n"
     ]
    }
   ],
   "source": [
    "model = VAR(endog=train)\n",
    "model_fit = model.fit()\n",
    "prediction = model_fit.forecast(model_fit.y,steps=len(valid))"
   ]
  },
  {
   "cell_type": "code",
   "execution_count": 346,
   "metadata": {},
   "outputs": [
    {
     "name": "stdout",
     "output_type": "stream",
     "text": [
      "[[185.65522297   0.41576502   2.73775265]\n",
      " [ 85.60264777   1.30730001   0.57609689]\n",
      " [  7.69246237   1.39151052   0.28501131]]\n",
      "rmse value for CardValue is :  41.566428735253176\n"
     ]
    }
   ],
   "source": [
    "from math import sqrt\n",
    "from sklearn.metrics import mean_squared_error\n",
    "print(prediction)\n",
    "# pred = pd.DataFrame(index=range(0,len(prediction)),columns=[cols])\n",
    "# for j in range(0,len(cols)):\n",
    "#     for i in range(0, len(prediction)):\n",
    "#        pred.iloc[i][j] = prediction[i][j]\n",
    "# print(pred,valid)\n",
    "\n",
    "print('rmse value for', 'CardValue', 'is : ', sqrt(mean_squared_error(prediction[2],valid['CardValue'])))\n",
    "    "
   ]
  }
 ],
 "metadata": {
  "kernelspec": {
   "display_name": "Python 3",
   "language": "python",
   "name": "python3"
  },
  "language_info": {
   "codemirror_mode": {
    "name": "ipython",
    "version": 3
   },
   "file_extension": ".py",
   "mimetype": "text/x-python",
   "name": "python",
   "nbconvert_exporter": "python",
   "pygments_lexer": "ipython3",
   "version": "3.7.3"
  }
 },
 "nbformat": 4,
 "nbformat_minor": 2
}
